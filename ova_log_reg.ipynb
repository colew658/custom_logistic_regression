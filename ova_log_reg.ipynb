{
 "cells": [
  {
   "cell_type": "markdown",
   "metadata": {},
   "source": [
    "# Custom One-Versus-All Logistic Regression\n",
    "\n",
    "By: Haiyan Cai, Joe Sellett, and Cole Wagner"
   ]
  },
  {
   "cell_type": "code",
   "execution_count": 1,
   "metadata": {},
   "outputs": [],
   "source": [
    "import itertools\n",
    "import time\n",
    "\n",
    "import matplotlib.pyplot as plt\n",
    "import numpy as np\n",
    "import pandas as pd\n",
    "import seaborn as sns\n",
    "from numpy.linalg import pinv\n",
    "from scipy.special import expit\n",
    "from sklearn.linear_model import LogisticRegression\n",
    "from sklearn.metrics import accuracy_score\n",
    "from sklearn.model_selection import (\n",
    "    cross_val_score,\n",
    "    train_test_split,\n",
    ")\n",
    "from sklearn.preprocessing import OneHotEncoder, StandardScaler\n"
   ]
  },
  {
   "cell_type": "code",
   "execution_count": 2,
   "metadata": {},
   "outputs": [],
   "source": [
    "customers = pd.read_csv(\"customer_data.csv\")"
   ]
  },
  {
   "cell_type": "markdown",
   "metadata": {},
   "source": [
    "## Preparation and Overview"
   ]
  },
  {
   "cell_type": "markdown",
   "metadata": {},
   "source": [
    "This dataset was collected by an automobile company for the purpose of customer segmentation. Customer segmentation is used by businesses to group customers into categories based on their purchasing behaviors. These behaviors may be influenced by factors such as income levels, previous spending habits, demographics, or any other data the company can obtain. This dataset was gathered because the automobile company aims to expand its current product offerings into new markets and seeks to understand potential customers in these markets. The company has previously categorized its existing customers into four segments (A, B, C, D). The goal of our project is to accurately identify customer segments based on various variables, including gender, age, work experience, and more."
   ]
  },
  {
   "cell_type": "markdown",
   "metadata": {},
   "source": [
    "Customer segmentation is a crucial practice for marketers across all industries. A successful categorization of customer segments will be highly valuable to automobile manufacturers worldwide, enabling them to determine how to allocate their marketing resources and tailor their strategies effectively. To be considered useful, our model must outperform existing models. This dataset was previously used in a competition hosted by Analytics Vidhya where the winners achieved an accuracy of 0.954 (Analytics Vidhya). However, we believe a model with an AUC above 0.8 would generally be considered valuable in this business context, while a model achieving an AUC above 0.9 would certainly be considered highly effective."
   ]
  },
  {
   "cell_type": "markdown",
   "metadata": {},
   "source": [
    "### Data Preparation"
   ]
  },
  {
   "cell_type": "markdown",
   "metadata": {},
   "source": [
    "Starting off, we will remove the ID and Var_1 variables from the data. The ID variable is unique to each row, so it does not provide any modeling value. Var_1 is anonymised, so we cannot know what it represents. There are also 719 duplicate rows which will be removed. After thourough testing, we also found that removing all rows with missing values provided the best model performance and generalizability. Finally, we one-hot encoded our categorical variables (“gender”, “ever_married”, “graduated”, “profession”, “spending_score”) and normalized our numeric variables. Now, we are ready to move forward with training our data."
   ]
  },
  {
   "cell_type": "code",
   "execution_count": 3,
   "metadata": {},
   "outputs": [
    {
     "data": {
      "text/html": [
       "<div>\n",
       "<style scoped>\n",
       "    .dataframe tbody tr th:only-of-type {\n",
       "        vertical-align: middle;\n",
       "    }\n",
       "\n",
       "    .dataframe tbody tr th {\n",
       "        vertical-align: top;\n",
       "    }\n",
       "\n",
       "    .dataframe thead th {\n",
       "        text-align: right;\n",
       "    }\n",
       "</style>\n",
       "<table border=\"1\" class=\"dataframe\">\n",
       "  <thead>\n",
       "    <tr style=\"text-align: right;\">\n",
       "      <th></th>\n",
       "      <th>ID</th>\n",
       "      <th>Gender</th>\n",
       "      <th>Ever_Married</th>\n",
       "      <th>Age</th>\n",
       "      <th>Graduated</th>\n",
       "      <th>Profession</th>\n",
       "      <th>Work_Experience</th>\n",
       "      <th>Spending_Score</th>\n",
       "      <th>Family_Size</th>\n",
       "      <th>Var_1</th>\n",
       "      <th>Segmentation</th>\n",
       "    </tr>\n",
       "  </thead>\n",
       "  <tbody>\n",
       "    <tr>\n",
       "      <th>0</th>\n",
       "      <td>462809</td>\n",
       "      <td>Male</td>\n",
       "      <td>No</td>\n",
       "      <td>22</td>\n",
       "      <td>No</td>\n",
       "      <td>Healthcare</td>\n",
       "      <td>1.0</td>\n",
       "      <td>Low</td>\n",
       "      <td>4.0</td>\n",
       "      <td>Cat_4</td>\n",
       "      <td>D</td>\n",
       "    </tr>\n",
       "    <tr>\n",
       "      <th>1</th>\n",
       "      <td>462643</td>\n",
       "      <td>Female</td>\n",
       "      <td>Yes</td>\n",
       "      <td>38</td>\n",
       "      <td>Yes</td>\n",
       "      <td>Engineer</td>\n",
       "      <td>NaN</td>\n",
       "      <td>Average</td>\n",
       "      <td>3.0</td>\n",
       "      <td>Cat_4</td>\n",
       "      <td>A</td>\n",
       "    </tr>\n",
       "    <tr>\n",
       "      <th>2</th>\n",
       "      <td>466315</td>\n",
       "      <td>Female</td>\n",
       "      <td>Yes</td>\n",
       "      <td>67</td>\n",
       "      <td>Yes</td>\n",
       "      <td>Engineer</td>\n",
       "      <td>1.0</td>\n",
       "      <td>Low</td>\n",
       "      <td>1.0</td>\n",
       "      <td>Cat_6</td>\n",
       "      <td>B</td>\n",
       "    </tr>\n",
       "    <tr>\n",
       "      <th>3</th>\n",
       "      <td>461735</td>\n",
       "      <td>Male</td>\n",
       "      <td>Yes</td>\n",
       "      <td>67</td>\n",
       "      <td>Yes</td>\n",
       "      <td>Lawyer</td>\n",
       "      <td>0.0</td>\n",
       "      <td>High</td>\n",
       "      <td>2.0</td>\n",
       "      <td>Cat_6</td>\n",
       "      <td>B</td>\n",
       "    </tr>\n",
       "    <tr>\n",
       "      <th>4</th>\n",
       "      <td>462669</td>\n",
       "      <td>Female</td>\n",
       "      <td>Yes</td>\n",
       "      <td>40</td>\n",
       "      <td>Yes</td>\n",
       "      <td>Entertainment</td>\n",
       "      <td>NaN</td>\n",
       "      <td>High</td>\n",
       "      <td>6.0</td>\n",
       "      <td>Cat_6</td>\n",
       "      <td>A</td>\n",
       "    </tr>\n",
       "  </tbody>\n",
       "</table>\n",
       "</div>"
      ],
      "text/plain": [
       "       ID  Gender Ever_Married  Age Graduated     Profession  Work_Experience  \\\n",
       "0  462809    Male           No   22        No     Healthcare              1.0   \n",
       "1  462643  Female          Yes   38       Yes       Engineer              NaN   \n",
       "2  466315  Female          Yes   67       Yes       Engineer              1.0   \n",
       "3  461735    Male          Yes   67       Yes         Lawyer              0.0   \n",
       "4  462669  Female          Yes   40       Yes  Entertainment              NaN   \n",
       "\n",
       "  Spending_Score  Family_Size  Var_1 Segmentation  \n",
       "0            Low          4.0  Cat_4            D  \n",
       "1        Average          3.0  Cat_4            A  \n",
       "2            Low          1.0  Cat_6            B  \n",
       "3           High          2.0  Cat_6            B  \n",
       "4           High          6.0  Cat_6            A  "
      ]
     },
     "execution_count": 3,
     "metadata": {},
     "output_type": "execute_result"
    }
   ],
   "source": [
    "customers.head()"
   ]
  },
  {
   "cell_type": "markdown",
   "metadata": {},
   "source": [
    "#### Variable Selection"
   ]
  },
  {
   "cell_type": "markdown",
   "metadata": {},
   "source": [
    "We will remove the ID and Var_1 variables from the data. The ID variable is unique to each row, so it does not provide any modeling value. Var_1 is anonymised, so we cannot know what it represents. "
   ]
  },
  {
   "cell_type": "code",
   "execution_count": 4,
   "metadata": {},
   "outputs": [],
   "source": [
    "customers_filtered = customers.drop(columns=[\"ID\", \"Var_1\"])"
   ]
  },
  {
   "cell_type": "markdown",
   "metadata": {},
   "source": [
    "#### Duplicate Data"
   ]
  },
  {
   "cell_type": "code",
   "execution_count": 5,
   "metadata": {},
   "outputs": [
    {
     "data": {
      "text/plain": [
       "719"
      ]
     },
     "execution_count": 5,
     "metadata": {},
     "output_type": "execute_result"
    }
   ],
   "source": [
    "sum(customers_filtered.duplicated())"
   ]
  },
  {
   "cell_type": "markdown",
   "metadata": {},
   "source": [
    "From the above code, we can see that we have 719 duplicate rows, which we will remove."
   ]
  },
  {
   "cell_type": "code",
   "execution_count": 6,
   "metadata": {},
   "outputs": [],
   "source": [
    "customers_filtered.drop_duplicates(inplace=True)"
   ]
  },
  {
   "cell_type": "markdown",
   "metadata": {},
   "source": [
    "#### Dealing with Missing Values"
   ]
  },
  {
   "cell_type": "code",
   "execution_count": 7,
   "metadata": {},
   "outputs": [
    {
     "data": {
      "text/plain": [
       "Gender               0\n",
       "Ever_Married       140\n",
       "Age                  0\n",
       "Graduated           77\n",
       "Profession         123\n",
       "Work_Experience    786\n",
       "Spending_Score       0\n",
       "Family_Size        326\n",
       "Segmentation         0\n",
       "dtype: int64"
      ]
     },
     "execution_count": 7,
     "metadata": {},
     "output_type": "execute_result"
    }
   ],
   "source": [
    "customers_filtered.isnull().sum()"
   ]
  },
  {
   "cell_type": "markdown",
   "metadata": {},
   "source": [
    "After many rounds of testing various imputation techniques (KNN, median, mode, etc.), we found that our test accuracy was consistently best when we simply removed all rows with missing values. This is likely due to the fact that the missing values are not random, and removing them allows us to avoid introducing bias into our model."
   ]
  },
  {
   "cell_type": "code",
   "execution_count": 8,
   "metadata": {},
   "outputs": [],
   "source": [
    "customers_filtered = customers_filtered.dropna()"
   ]
  },
  {
   "cell_type": "markdown",
   "metadata": {},
   "source": [
    "#### Data Transformation"
   ]
  },
  {
   "cell_type": "markdown",
   "metadata": {},
   "source": [
    "In order to prepare the data for modeling, we need to normalize all numeric columns and one-hot encode all categorical columns."
   ]
  },
  {
   "cell_type": "code",
   "execution_count": 9,
   "metadata": {},
   "outputs": [],
   "source": [
    "num_cols = [\"Age\", \"Family_Size\", \"Work_Experience\"]\n",
    "cat_cols = customers_filtered.columns.difference(\n",
    "    [*num_cols, \"Segmentation\"],\n",
    ").tolist()"
   ]
  },
  {
   "cell_type": "code",
   "execution_count": 10,
   "metadata": {},
   "outputs": [],
   "source": [
    "# Normalize numerical columns\n",
    "scaler = StandardScaler()\n",
    "customers_filtered[num_cols] = scaler.fit_transform(\n",
    "    customers_filtered[num_cols],\n",
    ")"
   ]
  },
  {
   "cell_type": "code",
   "execution_count": 11,
   "metadata": {},
   "outputs": [],
   "source": [
    "# One-hot encode categorical columns\n",
    "one_hot_encoder = OneHotEncoder(sparse_output=False)\n",
    "encoded_cat_cols = one_hot_encoder.fit_transform(\n",
    "    customers_filtered[cat_cols],\n",
    ")\n",
    "\n",
    "# Create a dataframe with the encoded columns\n",
    "encoded_cat_df = pd.DataFrame(\n",
    "    encoded_cat_cols,\n",
    "    columns=one_hot_encoder.get_feature_names_out(cat_cols),\n",
    "    index=customers_filtered.index,  # Ensure the index matches the original dataframe\n",
    ")\n",
    "\n",
    "# Concatenate the encoded columns with the original dataframe\n",
    "customers_filtered = pd.concat(\n",
    "    [customers_filtered.drop(columns=cat_cols), encoded_cat_df],\n",
    "    axis=1,\n",
    ")"
   ]
  },
  {
   "cell_type": "markdown",
   "metadata": {},
   "source": [
    "#### Data Overview"
   ]
  },
  {
   "cell_type": "code",
   "execution_count": 37,
   "metadata": {},
   "outputs": [
    {
     "data": {
      "text/html": [
       "<div>\n",
       "<style scoped>\n",
       "    .dataframe tbody tr th:only-of-type {\n",
       "        vertical-align: middle;\n",
       "    }\n",
       "\n",
       "    .dataframe tbody tr th {\n",
       "        vertical-align: top;\n",
       "    }\n",
       "\n",
       "    .dataframe thead th {\n",
       "        text-align: right;\n",
       "    }\n",
       "</style>\n",
       "<table border=\"1\" class=\"dataframe\">\n",
       "  <thead>\n",
       "    <tr style=\"text-align: right;\">\n",
       "      <th></th>\n",
       "      <th>Age</th>\n",
       "      <th>Family_Size</th>\n",
       "      <th>Work_Experience</th>\n",
       "    </tr>\n",
       "  </thead>\n",
       "  <tbody>\n",
       "    <tr>\n",
       "      <th>count</th>\n",
       "      <td>6.052000e+03</td>\n",
       "      <td>6.052000e+03</td>\n",
       "      <td>6.052000e+03</td>\n",
       "    </tr>\n",
       "    <tr>\n",
       "      <th>mean</th>\n",
       "      <td>-6.457345e-17</td>\n",
       "      <td>-8.101033e-17</td>\n",
       "      <td>-6.457345e-17</td>\n",
       "    </tr>\n",
       "    <tr>\n",
       "      <th>std</th>\n",
       "      <td>1.000083e+00</td>\n",
       "      <td>1.000083e+00</td>\n",
       "      <td>1.000083e+00</td>\n",
       "    </tr>\n",
       "    <tr>\n",
       "      <th>min</th>\n",
       "      <td>-1.601858e+00</td>\n",
       "      <td>-1.184402e+00</td>\n",
       "      <td>-8.011769e-01</td>\n",
       "    </tr>\n",
       "    <tr>\n",
       "      <th>25%</th>\n",
       "      <td>-8.007663e-01</td>\n",
       "      <td>-5.393917e-01</td>\n",
       "      <td>-8.011769e-01</td>\n",
       "    </tr>\n",
       "    <tr>\n",
       "      <th>50%</th>\n",
       "      <td>-1.845416e-01</td>\n",
       "      <td>-5.393917e-01</td>\n",
       "      <td>-5.142872e-01</td>\n",
       "    </tr>\n",
       "    <tr>\n",
       "      <th>75%</th>\n",
       "      <td>5.549281e-01</td>\n",
       "      <td>7.506294e-01</td>\n",
       "      <td>6.332716e-01</td>\n",
       "    </tr>\n",
       "    <tr>\n",
       "      <th>max</th>\n",
       "      <td>2.773337e+00</td>\n",
       "      <td>3.975682e+00</td>\n",
       "      <td>3.215279e+00</td>\n",
       "    </tr>\n",
       "  </tbody>\n",
       "</table>\n",
       "</div>"
      ],
      "text/plain": [
       "                Age   Family_Size  Work_Experience\n",
       "count  6.052000e+03  6.052000e+03     6.052000e+03\n",
       "mean  -6.457345e-17 -8.101033e-17    -6.457345e-17\n",
       "std    1.000083e+00  1.000083e+00     1.000083e+00\n",
       "min   -1.601858e+00 -1.184402e+00    -8.011769e-01\n",
       "25%   -8.007663e-01 -5.393917e-01    -8.011769e-01\n",
       "50%   -1.845416e-01 -5.393917e-01    -5.142872e-01\n",
       "75%    5.549281e-01  7.506294e-01     6.332716e-01\n",
       "max    2.773337e+00  3.975682e+00     3.215279e+00"
      ]
     },
     "execution_count": 37,
     "metadata": {},
     "output_type": "execute_result"
    }
   ],
   "source": [
    "customers_filtered[num_cols].describe()"
   ]
  },
  {
   "cell_type": "markdown",
   "metadata": {},
   "source": [
    "Predictably, now that we have normalized all numeric columns, they have a mean of 0 and a standard deviation of 1. "
   ]
  },
  {
   "cell_type": "code",
   "execution_count": 41,
   "metadata": {},
   "outputs": [
    {
     "name": "stdout",
     "output_type": "stream",
     "text": [
      "\n",
      "Ever_Married_No\n",
      "0.0    3670\n",
      "1.0    2382\n",
      "Name: count, dtype: int64\n",
      "\n",
      "\n",
      "Ever_Married_Yes\n",
      "1.0    3670\n",
      "0.0    2382\n",
      "Name: count, dtype: int64\n",
      "\n",
      "\n",
      "Gender_Female\n",
      "0.0    3302\n",
      "1.0    2750\n",
      "Name: count, dtype: int64\n",
      "\n",
      "\n",
      "Gender_Male\n",
      "1.0    3302\n",
      "0.0    2750\n",
      "Name: count, dtype: int64\n",
      "\n",
      "\n",
      "Graduated_No\n",
      "0.0    3909\n",
      "1.0    2143\n",
      "Name: count, dtype: int64\n",
      "\n",
      "\n",
      "Graduated_Yes\n",
      "1.0    3909\n",
      "0.0    2143\n",
      "Name: count, dtype: int64\n",
      "\n",
      "\n",
      "Profession_Artist\n",
      "0.0    4091\n",
      "1.0    1961\n",
      "Name: count, dtype: int64\n",
      "\n",
      "\n",
      "Profession_Doctor\n",
      "0.0    5470\n",
      "1.0     582\n",
      "Name: count, dtype: int64\n",
      "\n",
      "\n",
      "Profession_Engineer\n",
      "0.0    5488\n",
      "1.0     564\n",
      "Name: count, dtype: int64\n",
      "\n",
      "\n",
      "Profession_Entertainment\n",
      "0.0    5266\n",
      "1.0     786\n",
      "Name: count, dtype: int64\n",
      "\n",
      "\n",
      "Profession_Executive\n",
      "0.0    5572\n",
      "1.0     480\n",
      "Name: count, dtype: int64\n",
      "\n",
      "\n",
      "Profession_Healthcare\n",
      "0.0    5233\n",
      "1.0     819\n",
      "Name: count, dtype: int64\n",
      "\n",
      "\n",
      "Profession_Homemaker\n",
      "0.0    5878\n",
      "1.0     174\n",
      "Name: count, dtype: int64\n",
      "\n",
      "\n",
      "Profession_Lawyer\n",
      "0.0    5597\n",
      "1.0     455\n",
      "Name: count, dtype: int64\n",
      "\n",
      "\n",
      "Profession_Marketing\n",
      "0.0    5821\n",
      "1.0     231\n",
      "Name: count, dtype: int64\n",
      "\n",
      "\n",
      "Spending_Score_Average\n",
      "0.0    4553\n",
      "1.0    1499\n",
      "Name: count, dtype: int64\n",
      "\n",
      "\n",
      "Spending_Score_High\n",
      "0.0    5113\n",
      "1.0     939\n",
      "Name: count, dtype: int64\n",
      "\n",
      "\n",
      "Spending_Score_Low\n",
      "1.0    3614\n",
      "0.0    2438\n",
      "Name: count, dtype: int64\n",
      "\n",
      "\n",
      "Segmentation\n",
      "A    1544\n",
      "C    1525\n",
      "B    1495\n",
      "D    1488\n",
      "Name: count, dtype: int64\n",
      "\n"
     ]
    }
   ],
   "source": [
    "for col in [\n",
    "    *[*one_hot_encoder.get_feature_names_out(cat_cols), \"Segmentation\"]\n",
    "]:\n",
    "    print()\n",
    "    print(customers_filtered[col].value_counts())\n",
    "    print()"
   ]
  },
  {
   "cell_type": "markdown",
   "metadata": {},
   "source": [
    "Here we can see that all of our categorical variables have been one-hot encoded (aside from the label, obviously). The most important information we can glean from these value counts is that the label is approximately evenly distributed across the four classes. This is good, because it means that we won't have to deal with any class imbalance issues. "
   ]
  },
  {
   "cell_type": "markdown",
   "metadata": {},
   "source": [
    "**[.5 points] Divide your data into training and testing splits using an 80% training and 20% testing split. Use the cross validation modules that are part of scikit-learn. Argue \"for\" or \"against\" splitting your data using an 80/20 split. That is, why is the 80/20 split appropriate (or not) for your dataset?**"
   ]
  },
  {
   "cell_type": "code",
   "execution_count": 12,
   "metadata": {},
   "outputs": [],
   "source": [
    "x_train, x_test, y_train, y_test = train_test_split(\n",
    "    customers_filtered.drop(columns=[\"Segmentation\"]),\n",
    "    customers_filtered[\"Segmentation\"],\n",
    "    test_size=0.2,\n",
    "    random_state=42,\n",
    "    # Stratify by outcome\n",
    "    stratify=customers_filtered[\"Segmentation\"],\n",
    ")"
   ]
  },
  {
   "cell_type": "markdown",
   "metadata": {},
   "source": [
    "We would argue that this dataset is too small to do an 80/20 train/test split. Statistician Frank Harrell claims that around 20,000 rows are needed to perform a train/test split (Harrell), and we only have about 6,000 rows. In this case, we favor using cross-validation because it allows us to use all of our data for model training while still quantifying model performance on many simulated test sets."
   ]
  },
  {
   "cell_type": "markdown",
   "metadata": {},
   "source": [
    "## Modeling"
   ]
  },
  {
   "cell_type": "markdown",
   "metadata": {},
   "source": [
    "### Base Class (Steepest Descent)"
   ]
  },
  {
   "cell_type": "markdown",
   "metadata": {},
   "source": [
    "Class definition pulled from: https://github.com/eclarson/MachineLearningNotebooks/blob/master/06.%20Optimization.ipynb"
   ]
  },
  {
   "cell_type": "markdown",
   "metadata": {},
   "source": [
    "**Modifications:**\n",
    "- Docstrings\n",
    "- type hints\n",
    "- Options for L1, L2, and Elastic Net regularization"
   ]
  },
  {
   "cell_type": "code",
   "execution_count": 13,
   "metadata": {},
   "outputs": [],
   "source": [
    "class BinaryLogisticRegression:\n",
    "    \"\"\"Binary Logistic Regression using gradient descent.\n",
    "\n",
    "    Parameters\n",
    "    ----------\n",
    "    eta : float\n",
    "        Learning rate.\n",
    "    iterations : int, optional (default=20)\n",
    "        Number of iterations for the solver.\n",
    "    C : float, optional (default=0.001)\n",
    "        Constant applied to the regularization term.\n",
    "    regularization : str, optional (default=\"L2\")\n",
    "        Type of regularization to apply. Options are \"L1\", \"L2\", or \"Both\".\n",
    "\n",
    "    \"\"\"\n",
    "\n",
    "    def __init__(\n",
    "        self,\n",
    "        eta: float,\n",
    "        iterations: int = 20,\n",
    "        C: float = 0.001,\n",
    "        regularization: str = \"L2\",\n",
    "    ) -> None:\n",
    "        \"\"\"Initialize the BinaryLogisticRegression object.\n",
    "\n",
    "        Parameters\n",
    "        ----------\n",
    "        eta : float\n",
    "            Learning rate.\n",
    "        iterations : int, optional (default=20)\n",
    "            Number of iterations for the solver.\n",
    "        C : float, optional (default=0.001)\n",
    "            Constant applied to the regularization term.\n",
    "        regularization : str, optional (default=\"L2\")\n",
    "            Type of regularization to apply. Options are \"L1\", \"L2\", or \"Both\".\n",
    "\n",
    "        \"\"\"\n",
    "        self.eta = eta\n",
    "        self.iters = iterations\n",
    "        self.C = C\n",
    "        self.regularization = regularization\n",
    "        # internally we will store the weights as self.w_ to keep with sklearn conventions\n",
    "\n",
    "    def __str__(self) -> str:\n",
    "        \"\"\"Return a message for the BinaryLogisticRegression object.\"\"\"\n",
    "        if hasattr(self, \"w_\"):\n",
    "            return (\n",
    "                \"Binary Logistic Regression Object with coefficients:\\n\"\n",
    "                + str(self.w_)\n",
    "            )  # is we have trained the object\n",
    "        return \"Untrained Binary Logistic Regression Object\"\n",
    "\n",
    "    # convenience, private:\n",
    "    @staticmethod\n",
    "    def _add_bias(X: np.array) -> np.array:\n",
    "        return np.hstack((np.ones((X.shape[0], 1)), X))  # add bias term\n",
    "\n",
    "    @staticmethod\n",
    "    def _sigmoid(theta: np.array) -> np.array:\n",
    "        # increase stability, redefine sigmoid operation\n",
    "        return expit(theta)  # 1/(1+np.exp(-theta))\n",
    "\n",
    "    def _get_gradient(self, X, y):\n",
    "        ydiff = (\n",
    "            y - self.predict_proba(X, add_bias=False).ravel()\n",
    "        )  # get y difference\n",
    "        gradient = np.mean(\n",
    "            X * ydiff[:, np.newaxis],\n",
    "            axis=0,\n",
    "        )  # make ydiff a column vector and multiply through\n",
    "\n",
    "        gradient = gradient.reshape(self.w_.shape)\n",
    "        if self.regularization == \"L1\":\n",
    "            gradient[1:] += -self.C * np.sign(self.w_[1:])\n",
    "        elif self.regularization == \"L2\":\n",
    "            gradient[1:] += -2 * self.w_[1:] * self.C\n",
    "        elif self.regularization == \"Both\":\n",
    "            gradient[1:] += (\n",
    "                -self.C * np.sign(self.w_[1:]) - 2 * self.w_[1:] * self.C\n",
    "            )\n",
    "\n",
    "        return gradient\n",
    "\n",
    "    # public:\n",
    "    def predict_proba(\n",
    "        self,\n",
    "        X: np.array,\n",
    "        add_bias: bool = True,\n",
    "    ) -> np.array:\n",
    "        \"\"\"Predict the probability of the positive class.\n",
    "\n",
    "        Parameters\n",
    "        ----------\n",
    "        X : np.array\n",
    "            Input data.\n",
    "        add_bias : bool, optional (default=True)\n",
    "            Whether to add a bias term to the input data.\n",
    "\n",
    "        \"\"\"\n",
    "        # add bias term if requested\n",
    "        Xb = self._add_bias(X) if add_bias else X\n",
    "        return self._sigmoid(Xb @ self.w_)  # return the probability y=1\n",
    "\n",
    "    def predict(self, X: np.array) -> np.array:\n",
    "        \"\"\"Predict the discrete labels based on a cutoff of p > 0.5.\n",
    "\n",
    "        Parameters\n",
    "        ----------\n",
    "        X : np.array\n",
    "            Input data.\n",
    "\n",
    "        \"\"\"\n",
    "        return self.predict_proba(X) > 0.5  # return the actual prediction\n",
    "\n",
    "    def fit(self, X: np.array, y: np.array) -> None:\n",
    "        \"\"\"Fit the model to data.\n",
    "\n",
    "        Parameters\n",
    "        ----------\n",
    "        X : np.array\n",
    "            Input data.\n",
    "        y : np.array\n",
    "            Target labels.\n",
    "\n",
    "        \"\"\"\n",
    "        Xb = self._add_bias(X)  # add bias term\n",
    "        num_samples, num_features = Xb.shape\n",
    "\n",
    "        self.w_ = np.zeros(\n",
    "            (num_features, 1),\n",
    "        )  # init weight vector to zeros\n",
    "\n",
    "        # for as many as the max iterations\n",
    "        for _ in range(self.iters):\n",
    "            gradient = self._get_gradient(Xb, y)\n",
    "            self.w_ += gradient * self.eta  # multiply by learning rate\n",
    "            # add bacause maximizing"
   ]
  },
  {
   "cell_type": "markdown",
   "metadata": {},
   "source": [
    "### Stochastic Gradient Descent"
   ]
  },
  {
   "cell_type": "markdown",
   "metadata": {},
   "source": [
    "Class definition pulled from: https://github.com/eclarson/MachineLearningNotebooks/blob/master/06.%20Optimization.ipynb"
   ]
  },
  {
   "cell_type": "markdown",
   "metadata": {},
   "source": [
    "**Modifications:**\n",
    "- Docstrings \n",
    "- Type hints\n",
    "- Options for L1, L2, and Elastic Net regularization"
   ]
  },
  {
   "cell_type": "code",
   "execution_count": 14,
   "metadata": {},
   "outputs": [],
   "source": [
    "class StochasticLogisticRegression(BinaryLogisticRegression):\n",
    "    \"\"\"Logistic Regression using stochastic gradient descent.\n",
    "\n",
    "    Parameters\n",
    "    ----------\n",
    "    eta : float\n",
    "        Learning rate.\n",
    "    iterations : int, optional (default=20)\n",
    "        Number of iterations for the solver.\n",
    "    C : float, optional (default=0.001)\n",
    "        Constant applied to the regularization term.\n",
    "    regularization : str, optional (default=\"L2\")\n",
    "        Type of regularization to apply. Options are \"L1\", \"L2\", or \"Both\".\n",
    "\n",
    "    \"\"\"\n",
    "\n",
    "    # stochastic gradient calculation\n",
    "    def _get_gradient(self, X: np.array, y: np.array) -> np.array:\n",
    "        # grab a subset of samples in a mini-batch\n",
    "        mini_batch_size = 50\n",
    "        idxs = np.random.choice(len(y), mini_batch_size)\n",
    "\n",
    "        ydiff = (\n",
    "            y[idxs] - self.predict_proba(X[idxs], add_bias=False).ravel()\n",
    "        )  # get y difference (now scalar)\n",
    "        gradient = np.mean(\n",
    "            X[idxs] * ydiff[:, np.newaxis],\n",
    "            axis=0,\n",
    "        )  # make ydiff a column vector and multiply through\n",
    "\n",
    "        gradient = gradient.reshape(self.w_.shape)\n",
    "        if self.regularization == \"L1\":\n",
    "            gradient[1:] += -self.C * np.sign(self.w_[1:])\n",
    "        elif self.regularization == \"L2\":\n",
    "            gradient[1:] += -2 * self.w_[1:] * self.C\n",
    "        elif self.regularization == \"Both\":\n",
    "            gradient[1:] += (\n",
    "                -self.C * np.sign(self.w_[1:]) - 2 * self.w_[1:] * self.C\n",
    "            )\n",
    "        return gradient"
   ]
  },
  {
   "cell_type": "markdown",
   "metadata": {},
   "source": [
    "### Newton's Method Using Maximum Likelihood Estimation"
   ]
  },
  {
   "cell_type": "markdown",
   "metadata": {},
   "source": [
    "Class definition pulled from: https://github.com/eclarson/MachineLearningNotebooks/blob/master/06.%20Optimization.ipynb"
   ]
  },
  {
   "cell_type": "markdown",
   "metadata": {},
   "source": [
    "**Modifications:**\n",
    "- Docstrings\n",
    "- Type hints\n",
    "- Options for L1, L2, and Elastic Net regularization"
   ]
  },
  {
   "cell_type": "code",
   "execution_count": 15,
   "metadata": {},
   "outputs": [],
   "source": [
    "class HessianBinaryLogisticRegression(BinaryLogisticRegression):\n",
    "    \"\"\"Logistic Regression using Newton's method for optimization.\n",
    "\n",
    "    Parameters\n",
    "    ----------\n",
    "    eta : float\n",
    "        Learning rate.\n",
    "    iterations : int, optional (default=20)\n",
    "        Number of iterations for the solver.\n",
    "    C : float, optional (default=0.001)\n",
    "        Constant applied to the regularization term.\n",
    "    regularization : str, optional (default=\"L2\")\n",
    "        Type of regularization to apply. Options are \"L1\", \"L2\", or \"Both\".\n",
    "\n",
    "    \"\"\"\n",
    "\n",
    "    # just overwrite gradient function\n",
    "    def _get_gradient(self, X: np.array, y: np.array) -> np.array:\n",
    "        g = self.predict_proba(\n",
    "            X,\n",
    "            add_bias=False,\n",
    "        ).ravel()  # get sigmoid value for all classes\n",
    "        hessian = (\n",
    "            X.T @ np.diag(g * (1 - g)) @ X - 2 * self.C\n",
    "        )  # calculate the hessian\n",
    "\n",
    "        ydiff = y - g  # get y difference\n",
    "        gradient = np.sum(\n",
    "            X * ydiff[:, np.newaxis],\n",
    "            axis=0,\n",
    "        )  # make ydiff a column vector and multiply through\n",
    "        gradient = gradient.reshape(self.w_.shape)\n",
    "        if self.regularization == \"L1\":\n",
    "            gradient[1:] += -self.C * np.sign(self.w_[1:])\n",
    "        elif self.regularization == \"L2\":\n",
    "            gradient[1:] += -2 * self.w_[1:] * self.C\n",
    "        elif self.regularization == \"Both\":\n",
    "            gradient[1:] += (\n",
    "                -self.C * np.sign(self.w_[1:]) - 2 * self.w_[1:] * self.C\n",
    "            )\n",
    "\n",
    "        # Note the pinv() to make the hessian function inverse\n",
    "        return pinv(hessian) @ gradient"
   ]
  },
  {
   "cell_type": "markdown",
   "metadata": {},
   "source": [
    "### Newton's Method Using Mean Square Error as Objective Function"
   ]
  },
  {
   "cell_type": "markdown",
   "metadata": {},
   "source": [
    "Class definition pulled from: https://github.com/eclarson/MachineLearningNotebooks/blob/master/06.%20Optimization.ipynb"
   ]
  },
  {
   "cell_type": "markdown",
   "metadata": {},
   "source": [
    "**Modifications:**\n",
    "- Docstrings\n",
    "- Type hints\n",
    "- Implementation of MSE as objective function\n",
    "- Options for L1, L2, and Elastic Net regularization"
   ]
  },
  {
   "cell_type": "code",
   "execution_count": 16,
   "metadata": {},
   "outputs": [],
   "source": [
    "class HessianBinaryLogisticRegressionMSE(BinaryLogisticRegression):\n",
    "    \"\"\"Logistic Regression using Newton's method optimized with Mean Squared Error (MSE).\n",
    "\n",
    "    Parameters\n",
    "    ----------\n",
    "    eta : float\n",
    "        Learning rate.\n",
    "    iterations : int, optional (default=20)\n",
    "        Number of iterations for the solver.\n",
    "    C : float, optional (default=0.001)\n",
    "        Regularization constant.\n",
    "    regularization : str, optional (default=\"L2\")\n",
    "        Type of regularization to apply. Options are \"L1\", \"L2\", or \"Both\".\n",
    "\n",
    "    \"\"\"\n",
    "\n",
    "    def _get_gradient(self, X: np.array, y: np.array) -> np.array:\n",
    "        g = self.predict_proba(\n",
    "            X,\n",
    "            add_bias=False,\n",
    "        ).ravel()  # get sigmoid value for all samples\n",
    "\n",
    "        # Compute Mean Squared Error gradient\n",
    "        ydiff = y - g  # error term\n",
    "        gradient = (\n",
    "            -2 * (X.T @ (ydiff * g * (1 - g))) / len(y)\n",
    "        )  # Apply MSE gradient formula\n",
    "        gradient = gradient.reshape(self.w_.shape)\n",
    "        if self.regularization == \"L1\":\n",
    "            gradient[1:] += -self.C * np.sign(self.w_[1:])\n",
    "        elif self.regularization == \"L2\":\n",
    "            gradient[1:] += -2 * self.w_[1:] * self.C\n",
    "        elif self.regularization == \"Both\":\n",
    "            gradient[1:] += (\n",
    "                -self.C * np.sign(self.w_[1:]) - 2 * self.w_[1:] * self.C\n",
    "            )\n",
    "\n",
    "        # Compute Hessian based on MSE\n",
    "        D = np.diag((2 * g * (1 - g)) / len(y))  # Diagonal matrix\n",
    "        hessian = X.T @ D @ X - 2 * self.C * np.eye(\n",
    "            X.shape[1],\n",
    "        )  # MSE Hessian with regularization\n",
    "\n",
    "        # Use pseudo-inverse to compute Newton step\n",
    "        return pinv(hessian) @ gradient"
   ]
  },
  {
   "cell_type": "markdown",
   "metadata": {},
   "source": [
    "Class definition pulled from: https://github.com/eclarson/MachineLearningNotebooks/blob/master/06.%20Optimization.ipynb"
   ]
  },
  {
   "cell_type": "markdown",
   "metadata": {},
   "source": [
    "**Modifications:**\n",
    "- Docstrings\n",
    "- Type hints\n",
    "- Refactored `predict_proba()` to use list comprehension\n",
    "- Added the `get_params()` and `set_params()` methods to allow for compatibility with Scikit-Learn's cross-validation tools\n",
    "- Added `regularization` parameter to allow for L1, L2, and Elastic Net regularization"
   ]
  },
  {
   "cell_type": "code",
   "execution_count": 17,
   "metadata": {},
   "outputs": [],
   "source": [
    "class MultiClassLogisticRegression:\n",
    "    \"\"\"MultiClass Logistic Regression using One-Versus-All approach.\n",
    "\n",
    "    Parameters\n",
    "    ----------\n",
    "    eta : float\n",
    "        Learning rate.\n",
    "    iterations : int, optional (default=20)\n",
    "        Number of iterations for the solver.\n",
    "    C : float, optional (default=0.0001)\n",
    "        Constant applied to the regularization term.\n",
    "    solver : class, optional (default=HessianBinaryLogisticRegression)\n",
    "        Solver class to use for binary logistic regression.\n",
    "    regularization : str, optional (default=\"L2\")\n",
    "            Type of regularization to use.\n",
    "            Options are \"L1\" for Lasso, \"L2\" for Ridge, or \"Both\"\n",
    "            for Elastic Net.\n",
    "\n",
    "    \"\"\"\n",
    "\n",
    "    def __init__(\n",
    "        self,\n",
    "        eta: float,\n",
    "        iterations: int = 20,\n",
    "        C: float = 0.0001,\n",
    "        regularization: str = \"L2\",\n",
    "        solver: any = HessianBinaryLogisticRegression,\n",
    "    ) -> None:\n",
    "        \"\"\"Initialize the MultiClassLogisticRegression object.\n",
    "\n",
    "        Parameters\n",
    "        ----------\n",
    "        eta : float\n",
    "            Learning rate.\n",
    "        iterations : int, optional (default=20)\n",
    "            Number of iterations for the solver.\n",
    "        C : float, optional (default=0.0001)\n",
    "            Constant applied to the regularization term.\n",
    "        regularization : str, optional (default=\"L2\")\n",
    "            Type of regularization to use.\n",
    "            Options are \"L1\" for Lasso, \"L2\" for Ridge, or \"Both\"\n",
    "            for Elastic Net.\n",
    "        solver : class, optional (default=HessianBinaryLogisticRegression)\n",
    "            Solver class to use for binary logistic regression.\n",
    "\n",
    "        \"\"\"\n",
    "        self.eta = eta\n",
    "        self.iters = iterations\n",
    "        self.C = C\n",
    "        self.solver = solver\n",
    "        self.regularization = regularization\n",
    "        self.classifiers_ = []\n",
    "        # internally we will store the weights as self.w_\n",
    "\n",
    "    def __str__(self) -> str:\n",
    "        \"\"\"Return a message for the MultiClassLogisticRegression object.\"\"\"\n",
    "        if hasattr(self, \"w_\"):\n",
    "            return (\n",
    "                \"MultiClass Logistic Regression Object with coefficients:\\n\"\n",
    "                + str(self.w_)\n",
    "            )  # is we have trained the object\n",
    "        return \"Untrained MultiClass Logistic Regression Object\"\n",
    "\n",
    "    def fit(self, X: np.array, y: np.array) -> None:\n",
    "        \"\"\"Fit the model.\n",
    "\n",
    "        Parameters\n",
    "        ----------\n",
    "        X : np.array\n",
    "            Input data.\n",
    "        y : np.array\n",
    "            Target labels.\n",
    "\n",
    "        \"\"\"\n",
    "        num_samples, num_features = X.shape\n",
    "        self.unique_ = np.sort(np.unique(y))  # get each unique class value\n",
    "        self.classifiers_ = []\n",
    "        for i, yval in enumerate(self.unique_):  # for each unique value\n",
    "            y_binary = np.array(y == yval).astype(\n",
    "                int,\n",
    "            )  # create a binary problem\n",
    "            # train the binary classifier for this class\n",
    "\n",
    "            hblr = self.solver(\n",
    "                eta=self.eta,\n",
    "                iterations=self.iters,\n",
    "                C=self.C,\n",
    "                regularization=self.regularization,\n",
    "            )\n",
    "            hblr.fit(X, y_binary)\n",
    "\n",
    "            # add the trained classifier to the list\n",
    "            self.classifiers_.append(hblr)\n",
    "\n",
    "        # save all the weights into one matrix, separate column for each class\n",
    "        self.w_ = np.hstack([x.w_ for x in self.classifiers_]).T\n",
    "\n",
    "    def predict_proba(self, X: np.array) -> np.array:\n",
    "        \"\"\"Predict the probability of each class.\n",
    "\n",
    "        Parameters\n",
    "        ----------\n",
    "        X : np.array\n",
    "            Input data.\n",
    "\n",
    "        \"\"\"\n",
    "        probs = [\n",
    "            hblr.predict_proba(X).reshape((len(X), 1))\n",
    "            for hblr in self.classifiers_\n",
    "        ]\n",
    "        return np.hstack(probs)  # make into single matrix\n",
    "\n",
    "    def predict(self, X: np.array) -> np.array:\n",
    "        \"\"\"Predict the discrete labels.\n",
    "\n",
    "        Parameters\n",
    "        ----------\n",
    "        X : np.array\n",
    "            Input data.\n",
    "\n",
    "        \"\"\"\n",
    "        return self.unique_[\n",
    "            np.argmax(self.predict_proba(X), axis=1)\n",
    "        ]  # take argmax along row\n",
    "\n",
    "    def get_params(self, deep=True) -> dict:\n",
    "        \"\"\"Get the parameters of the model.\n",
    "\n",
    "        Parameters\n",
    "        ----------\n",
    "        deep : bool, optional (default=True)\n",
    "            Required parameter for compatibility with sklearn.\n",
    "\n",
    "        Returns\n",
    "        -------\n",
    "        dict\n",
    "            Parameters of the model.\n",
    "\n",
    "        \"\"\"\n",
    "        return {\n",
    "            \"eta\": self.eta,\n",
    "            \"iterations\": self.iters,\n",
    "            \"C\": self.C,\n",
    "            \"solver\": self.solver,\n",
    "            \"regularization\": self.regularization,\n",
    "        }\n",
    "\n",
    "    def set_params(self, **params: dict) -> None:\n",
    "        \"\"\"Set the parameters of the model.\n",
    "\n",
    "        Parameters\n",
    "        ----------\n",
    "        **params : dict\n",
    "            Parameters to set.\n",
    "\n",
    "        \"\"\"\n",
    "        for key, value in params.items():\n",
    "            if key in self.get_params():\n",
    "                setattr(self, key, value)\n",
    "            else:\n",
    "                raise ValueError(f\"Invalid parameter: {key}\")"
   ]
  },
  {
   "cell_type": "markdown",
   "metadata": {},
   "source": [
    "### Compare Train/Test Split with 10-Fold CV on Full Dataset"
   ]
  },
  {
   "cell_type": "code",
   "execution_count": 18,
   "metadata": {},
   "outputs": [],
   "source": [
    "clf = MultiClassLogisticRegression(\n",
    "    solver=HessianBinaryLogisticRegression,\n",
    "    eta=0.1,\n",
    "    regularization=\"Both\",\n",
    ")"
   ]
  },
  {
   "cell_type": "code",
   "execution_count": 19,
   "metadata": {},
   "outputs": [
    {
     "data": {
      "text/plain": [
       "0.4847233691164327"
      ]
     },
     "execution_count": 19,
     "metadata": {},
     "output_type": "execute_result"
    }
   ],
   "source": [
    "# Fit the classifier on the training data and evaluate on the test data\n",
    "clf.fit(x_train.values, y_train.values)\n",
    "clf.predict(x_test.values)\n",
    "accuracy_score(y_test, clf.predict(x_test.values))"
   ]
  },
  {
   "cell_type": "code",
   "execution_count": 20,
   "metadata": {},
   "outputs": [
    {
     "name": "stdout",
     "output_type": "stream",
     "text": [
      "Mean Accuracy: 0.4300\n",
      "Standard Deviation of Accuracy: 0.0735\n"
     ]
    }
   ],
   "source": [
    "# Perform 10-fold cross-validation\n",
    "cv_scores = cross_val_score(\n",
    "    estimator=clf,\n",
    "    X=customers_filtered.drop(columns=[\"Segmentation\"]),\n",
    "    y=customers_filtered[\"Segmentation\"],\n",
    "    cv=10,\n",
    "    scoring=\"accuracy\",\n",
    ")\n",
    "\n",
    "# Calculate the mean accuracy and standard deviation\n",
    "mean_accuracy = np.mean(cv_scores)\n",
    "std_accuracy = np.std(cv_scores)\n",
    "\n",
    "print(f\"Mean Accuracy: {mean_accuracy:.4f}\")\n",
    "print(f\"Standard Deviation of Accuracy: {std_accuracy:.4f}\")"
   ]
  },
  {
   "cell_type": "markdown",
   "metadata": {},
   "source": [
    "From the above comparison, we can see that the test accuracy is slightly higher than the cross-validated accuracy. This is likely due to the fact that the test set is a random sample of the data, and the cross-validation process is more robust since all the data gets used for both training and testing. However, the difference is not significant enough to warrant concern."
   ]
  },
  {
   "cell_type": "markdown",
   "metadata": {},
   "source": [
    "### Tune Hyperparameters"
   ]
  },
  {
   "cell_type": "markdown",
   "metadata": {},
   "source": [
    "#### Grid Search"
   ]
  },
  {
   "cell_type": "code",
   "execution_count": 21,
   "metadata": {},
   "outputs": [],
   "source": [
    "def get_hyperparameter_combinations(param_grid: dict) -> list:\n",
    "    \"\"\"Generate all possible combinations of hyperparameters from a grid.\n",
    "\n",
    "    Parameters\n",
    "    ----------\n",
    "    param_grid : dict\n",
    "      A dictionary where keys are hyperparameter names and values are\n",
    "      lists of possible settings.\n",
    "\n",
    "    Returns\n",
    "    -------\n",
    "    list\n",
    "      A list of dictionaries, where each dictionary represents a unique\n",
    "      combination of hyperparameters.\n",
    "\n",
    "    \"\"\"\n",
    "    keys, values = zip(*param_grid.items())\n",
    "    combinations_list = list(itertools.product(*values))\n",
    "    return [\n",
    "        dict(zip(keys, combination)) for combination in combinations_list\n",
    "    ]\n"
   ]
  },
  {
   "cell_type": "code",
   "execution_count": 22,
   "metadata": {},
   "outputs": [],
   "source": [
    "def grid_search(\n",
    "    X: np.array,\n",
    "    y: np.array,\n",
    "    param_grid: dict,\n",
    ") -> tuple:\n",
    "    \"\"\"Perform grid search to find the best hyperparameters.\n",
    "\n",
    "    Parameters\n",
    "    ----------\n",
    "    X : np.array\n",
    "        Input data.\n",
    "    y : np.array\n",
    "        Target labels.\n",
    "    param_grid : dict\n",
    "        Dictionary of hyperparameters to search.\n",
    "\n",
    "    Returns\n",
    "    -------\n",
    "    pd.DataFrame\n",
    "        DataFrame containing the results of the grid search.\n",
    "\n",
    "    \"\"\"\n",
    "    # Create a list to store the results\n",
    "    cv_results = []\n",
    "\n",
    "    # Generate all possible combinations of hyperparameters\n",
    "    hyper_combos = get_hyperparameter_combinations(param_grid)\n",
    "\n",
    "    # Iterate over each combination of hyperparameters\n",
    "    for i, params in enumerate(hyper_combos):\n",
    "        # Create new instance of the classifier with the current set of parameters\n",
    "        clf = MultiClassLogisticRegression(\n",
    "            eta=params.get(\"eta\", 0.01),\n",
    "            C=params.get(\"C\", 0.001),\n",
    "            regularization=params.get(\"regularization\", \"L2\"),\n",
    "            solver=params.get(\"solver\", HessianBinaryLogisticRegression),\n",
    "        )\n",
    "\n",
    "        # Perform 5-fold cross-validation\n",
    "        cv_scores = cross_val_score(\n",
    "            estimator=clf,\n",
    "            X=X,\n",
    "            y=y,\n",
    "            cv=5,\n",
    "            scoring=\"accuracy\",\n",
    "        )\n",
    "\n",
    "        # Calculate the mean accuracy and standard deviation\n",
    "        mean_accuracy = np.mean(cv_scores)\n",
    "        std_accuracy = np.std(cv_scores)\n",
    "\n",
    "        # Append the results to the dataframe\n",
    "        cv_results.append(\n",
    "            {\n",
    "                \"eta\": params.get(\"eta\", 0.01),\n",
    "                \"C\": params.get(\"C\", 0.001),\n",
    "                \"regularization\": params.get(\"regularization\", \"L2\"),\n",
    "                \"solver\": params.get(\n",
    "                    \"solver\",\n",
    "                    HessianBinaryLogisticRegression,\n",
    "                ),\n",
    "                \"accuracy_mean\": mean_accuracy,\n",
    "                \"accuracy_std\": std_accuracy,\n",
    "            },\n",
    "        )\n",
    "    # Convert the results to a DataFrame\n",
    "    return pd.DataFrame(cv_results)"
   ]
  },
  {
   "cell_type": "code",
   "execution_count": 23,
   "metadata": {},
   "outputs": [],
   "source": [
    "# Create two dictionaries of hyperparameters to test grid search function\n",
    "hyper_grid = {\n",
    "    \"eta\": [0.01, 0.1, 1],\n",
    "    \"C\": [0.0001, 0.001, 0.01],\n",
    "    \"regularization\": [\"L1\", \"L2\", \"Both\"],\n",
    "    \"solver\": [\n",
    "        BinaryLogisticRegression,\n",
    "        StochasticLogisticRegression,\n",
    "        HessianBinaryLogisticRegression,\n",
    "        HessianBinaryLogisticRegressionMSE,\n",
    "    ],\n",
    "}\n",
    "\n",
    "small_hyper_grid = {\n",
    "    \"eta\": [0.01, 0.1],\n",
    "    \"C\": [0.0001, 0.001],\n",
    "}"
   ]
  },
  {
   "cell_type": "code",
   "execution_count": 24,
   "metadata": {},
   "outputs": [],
   "source": [
    "# Perform grid search using smaller hyperparameter grid\n",
    "grid_results = grid_search(\n",
    "    customers_filtered.drop(columns=[\"Segmentation\"]).values,\n",
    "    customers_filtered[\"Segmentation\"].values,\n",
    "    small_hyper_grid,\n",
    ")"
   ]
  },
  {
   "cell_type": "code",
   "execution_count": 25,
   "metadata": {},
   "outputs": [
    {
     "data": {
      "text/html": [
       "<div>\n",
       "<style scoped>\n",
       "    .dataframe tbody tr th:only-of-type {\n",
       "        vertical-align: middle;\n",
       "    }\n",
       "\n",
       "    .dataframe tbody tr th {\n",
       "        vertical-align: top;\n",
       "    }\n",
       "\n",
       "    .dataframe thead th {\n",
       "        text-align: right;\n",
       "    }\n",
       "</style>\n",
       "<table border=\"1\" class=\"dataframe\">\n",
       "  <thead>\n",
       "    <tr style=\"text-align: right;\">\n",
       "      <th></th>\n",
       "      <th>eta</th>\n",
       "      <th>C</th>\n",
       "      <th>regularization</th>\n",
       "      <th>solver</th>\n",
       "      <th>accuracy_mean</th>\n",
       "      <th>accuracy_std</th>\n",
       "    </tr>\n",
       "  </thead>\n",
       "  <tbody>\n",
       "    <tr>\n",
       "      <th>0</th>\n",
       "      <td>0.01</td>\n",
       "      <td>0.0001</td>\n",
       "      <td>L2</td>\n",
       "      <td>&lt;class '__main__.HessianBinaryLogisticRegressi...</td>\n",
       "      <td>0.476197</td>\n",
       "      <td>0.026021</td>\n",
       "    </tr>\n",
       "    <tr>\n",
       "      <th>1</th>\n",
       "      <td>0.01</td>\n",
       "      <td>0.0010</td>\n",
       "      <td>L2</td>\n",
       "      <td>&lt;class '__main__.HessianBinaryLogisticRegressi...</td>\n",
       "      <td>0.442150</td>\n",
       "      <td>0.075207</td>\n",
       "    </tr>\n",
       "    <tr>\n",
       "      <th>2</th>\n",
       "      <td>0.10</td>\n",
       "      <td>0.0001</td>\n",
       "      <td>L2</td>\n",
       "      <td>&lt;class '__main__.HessianBinaryLogisticRegressi...</td>\n",
       "      <td>0.484294</td>\n",
       "      <td>0.022608</td>\n",
       "    </tr>\n",
       "    <tr>\n",
       "      <th>3</th>\n",
       "      <td>0.10</td>\n",
       "      <td>0.0010</td>\n",
       "      <td>L2</td>\n",
       "      <td>&lt;class '__main__.HessianBinaryLogisticRegressi...</td>\n",
       "      <td>0.439005</td>\n",
       "      <td>0.082991</td>\n",
       "    </tr>\n",
       "  </tbody>\n",
       "</table>\n",
       "</div>"
      ],
      "text/plain": [
       "    eta       C regularization  \\\n",
       "0  0.01  0.0001             L2   \n",
       "1  0.01  0.0010             L2   \n",
       "2  0.10  0.0001             L2   \n",
       "3  0.10  0.0010             L2   \n",
       "\n",
       "                                              solver  accuracy_mean  \\\n",
       "0  <class '__main__.HessianBinaryLogisticRegressi...       0.476197   \n",
       "1  <class '__main__.HessianBinaryLogisticRegressi...       0.442150   \n",
       "2  <class '__main__.HessianBinaryLogisticRegressi...       0.484294   \n",
       "3  <class '__main__.HessianBinaryLogisticRegressi...       0.439005   \n",
       "\n",
       "   accuracy_std  \n",
       "0      0.026021  \n",
       "1      0.075207  \n",
       "2      0.022608  \n",
       "3      0.082991  "
      ]
     },
     "execution_count": 25,
     "metadata": {},
     "output_type": "execute_result"
    }
   ],
   "source": [
    "# View results\n",
    "grid_results"
   ]
  },
  {
   "cell_type": "code",
   "execution_count": 26,
   "metadata": {},
   "outputs": [],
   "source": [
    "# Perform grid search using full hyperparameter grid\n",
    "full_grid_results = grid_search(\n",
    "    customers_filtered.drop(columns=[\"Segmentation\"]).values,\n",
    "    customers_filtered[\"Segmentation\"].values,\n",
    "    hyper_grid,\n",
    ")"
   ]
  },
  {
   "cell_type": "code",
   "execution_count": 27,
   "metadata": {},
   "outputs": [
    {
     "data": {
      "text/html": [
       "<div>\n",
       "<style scoped>\n",
       "    .dataframe tbody tr th:only-of-type {\n",
       "        vertical-align: middle;\n",
       "    }\n",
       "\n",
       "    .dataframe tbody tr th {\n",
       "        vertical-align: top;\n",
       "    }\n",
       "\n",
       "    .dataframe thead th {\n",
       "        text-align: right;\n",
       "    }\n",
       "</style>\n",
       "<table border=\"1\" class=\"dataframe\">\n",
       "  <thead>\n",
       "    <tr style=\"text-align: right;\">\n",
       "      <th></th>\n",
       "      <th>eta</th>\n",
       "      <th>C</th>\n",
       "      <th>regularization</th>\n",
       "      <th>solver</th>\n",
       "      <th>accuracy_mean</th>\n",
       "      <th>accuracy_std</th>\n",
       "    </tr>\n",
       "  </thead>\n",
       "  <tbody>\n",
       "    <tr>\n",
       "      <th>86</th>\n",
       "      <td>1.00</td>\n",
       "      <td>0.0010</td>\n",
       "      <td>L1</td>\n",
       "      <td>&lt;class '__main__.HessianBinaryLogisticRegressi...</td>\n",
       "      <td>0.484955</td>\n",
       "      <td>0.022826</td>\n",
       "    </tr>\n",
       "    <tr>\n",
       "      <th>74</th>\n",
       "      <td>1.00</td>\n",
       "      <td>0.0001</td>\n",
       "      <td>L1</td>\n",
       "      <td>&lt;class '__main__.HessianBinaryLogisticRegressi...</td>\n",
       "      <td>0.484955</td>\n",
       "      <td>0.022826</td>\n",
       "    </tr>\n",
       "    <tr>\n",
       "      <th>98</th>\n",
       "      <td>1.00</td>\n",
       "      <td>0.0100</td>\n",
       "      <td>L1</td>\n",
       "      <td>&lt;class '__main__.HessianBinaryLogisticRegressi...</td>\n",
       "      <td>0.484955</td>\n",
       "      <td>0.023037</td>\n",
       "    </tr>\n",
       "    <tr>\n",
       "      <th>42</th>\n",
       "      <td>0.10</td>\n",
       "      <td>0.0001</td>\n",
       "      <td>L2</td>\n",
       "      <td>&lt;class '__main__.HessianBinaryLogisticRegressi...</td>\n",
       "      <td>0.484294</td>\n",
       "      <td>0.022608</td>\n",
       "    </tr>\n",
       "    <tr>\n",
       "      <th>50</th>\n",
       "      <td>0.10</td>\n",
       "      <td>0.0010</td>\n",
       "      <td>L1</td>\n",
       "      <td>&lt;class '__main__.HessianBinaryLogisticRegressi...</td>\n",
       "      <td>0.481484</td>\n",
       "      <td>0.024988</td>\n",
       "    </tr>\n",
       "    <tr>\n",
       "      <th>62</th>\n",
       "      <td>0.10</td>\n",
       "      <td>0.0100</td>\n",
       "      <td>L1</td>\n",
       "      <td>&lt;class '__main__.HessianBinaryLogisticRegressi...</td>\n",
       "      <td>0.481484</td>\n",
       "      <td>0.024988</td>\n",
       "    </tr>\n",
       "    <tr>\n",
       "      <th>38</th>\n",
       "      <td>0.10</td>\n",
       "      <td>0.0001</td>\n",
       "      <td>L1</td>\n",
       "      <td>&lt;class '__main__.HessianBinaryLogisticRegressi...</td>\n",
       "      <td>0.481484</td>\n",
       "      <td>0.024988</td>\n",
       "    </tr>\n",
       "    <tr>\n",
       "      <th>10</th>\n",
       "      <td>0.01</td>\n",
       "      <td>0.0001</td>\n",
       "      <td>Both</td>\n",
       "      <td>&lt;class '__main__.HessianBinaryLogisticRegressi...</td>\n",
       "      <td>0.477189</td>\n",
       "      <td>0.024217</td>\n",
       "    </tr>\n",
       "    <tr>\n",
       "      <th>6</th>\n",
       "      <td>0.01</td>\n",
       "      <td>0.0001</td>\n",
       "      <td>L2</td>\n",
       "      <td>&lt;class '__main__.HessianBinaryLogisticRegressi...</td>\n",
       "      <td>0.476197</td>\n",
       "      <td>0.026021</td>\n",
       "    </tr>\n",
       "    <tr>\n",
       "      <th>14</th>\n",
       "      <td>0.01</td>\n",
       "      <td>0.0010</td>\n",
       "      <td>L1</td>\n",
       "      <td>&lt;class '__main__.HessianBinaryLogisticRegressi...</td>\n",
       "      <td>0.476031</td>\n",
       "      <td>0.026490</td>\n",
       "    </tr>\n",
       "  </tbody>\n",
       "</table>\n",
       "</div>"
      ],
      "text/plain": [
       "     eta       C regularization  \\\n",
       "86  1.00  0.0010             L1   \n",
       "74  1.00  0.0001             L1   \n",
       "98  1.00  0.0100             L1   \n",
       "42  0.10  0.0001             L2   \n",
       "50  0.10  0.0010             L1   \n",
       "62  0.10  0.0100             L1   \n",
       "38  0.10  0.0001             L1   \n",
       "10  0.01  0.0001           Both   \n",
       "6   0.01  0.0001             L2   \n",
       "14  0.01  0.0010             L1   \n",
       "\n",
       "                                               solver  accuracy_mean  \\\n",
       "86  <class '__main__.HessianBinaryLogisticRegressi...       0.484955   \n",
       "74  <class '__main__.HessianBinaryLogisticRegressi...       0.484955   \n",
       "98  <class '__main__.HessianBinaryLogisticRegressi...       0.484955   \n",
       "42  <class '__main__.HessianBinaryLogisticRegressi...       0.484294   \n",
       "50  <class '__main__.HessianBinaryLogisticRegressi...       0.481484   \n",
       "62  <class '__main__.HessianBinaryLogisticRegressi...       0.481484   \n",
       "38  <class '__main__.HessianBinaryLogisticRegressi...       0.481484   \n",
       "10  <class '__main__.HessianBinaryLogisticRegressi...       0.477189   \n",
       "6   <class '__main__.HessianBinaryLogisticRegressi...       0.476197   \n",
       "14  <class '__main__.HessianBinaryLogisticRegressi...       0.476031   \n",
       "\n",
       "    accuracy_std  \n",
       "86      0.022826  \n",
       "74      0.022826  \n",
       "98      0.023037  \n",
       "42      0.022608  \n",
       "50      0.024988  \n",
       "62      0.024988  \n",
       "38      0.024988  \n",
       "10      0.024217  \n",
       "6       0.026021  \n",
       "14      0.026490  "
      ]
     },
     "execution_count": 27,
     "metadata": {},
     "output_type": "execute_result"
    }
   ],
   "source": [
    "# Output the top 10 results sorted by accuracy\n",
    "sorted_results = full_grid_results.sort_values(\n",
    "    by=\"accuracy_mean\",\n",
    "    ascending=False,\n",
    ")\n",
    "sorted_results.head(10)"
   ]
  },
  {
   "cell_type": "code",
   "execution_count": null,
   "metadata": {},
   "outputs": [],
   "source": [
    "# full_grid_results.to_csv(\"grid_search_results.csv\", index=False)"
   ]
  },
  {
   "cell_type": "code",
   "execution_count": 29,
   "metadata": {},
   "outputs": [
    {
     "data": {
      "text/plain": [
       "0.4888521882741536"
      ]
     },
     "execution_count": 29,
     "metadata": {},
     "output_type": "execute_result"
    }
   ],
   "source": [
    "# Create classifier with the best hyperparameters\n",
    "best_params = sorted_results.iloc[0]\n",
    "clf = MultiClassLogisticRegression(\n",
    "    eta=best_params[\"eta\"],\n",
    "    C=best_params[\"C\"],\n",
    "    regularization=best_params[\"regularization\"],\n",
    "    solver=best_params[\"solver\"],\n",
    ")\n",
    "clf.fit(x_train.values, y_train.values)\n",
    "clf.predict(x_test.values)\n",
    "accuracy_score(y_test, clf.predict(x_test.values))"
   ]
  },
  {
   "cell_type": "markdown",
   "metadata": {},
   "source": [
    "#### Visualize Results"
   ]
  },
  {
   "cell_type": "code",
   "execution_count": 30,
   "metadata": {},
   "outputs": [],
   "source": [
    "# Map the solver names to their string representations\n",
    "solver_names = {\n",
    "    BinaryLogisticRegression: \"BinaryLogisticRegression\",\n",
    "    StochasticLogisticRegression: \"StochasticLogisticRegression\",\n",
    "    HessianBinaryLogisticRegression: \"HessianBinaryLogisticRegression\",\n",
    "    HessianBinaryLogisticRegressionMSE: \"HessianBinaryLogisticRegressionMSE\",\n",
    "}\n",
    "# Create a new column for solver names\n",
    "full_grid_results[\"solver_name\"] = full_grid_results[\"solver\"].map(\n",
    "    solver_names,\n",
    ")\n",
    "# Map the solver names to colors\n",
    "solver_colors = {\n",
    "    \"BinaryLogisticRegression\": \"blue\",\n",
    "    \"StochasticLogisticRegression\": \"green\",\n",
    "    \"HessianBinaryLogisticRegression\": \"red\",\n",
    "    \"HessianBinaryLogisticRegressionMSE\": \"purple\",\n",
    "}"
   ]
  },
  {
   "cell_type": "code",
   "execution_count": 31,
   "metadata": {},
   "outputs": [
    {
     "data": {
      "image/png": "[encoded data removed]",
      "text/plain": [
       "<Figure size 1200x600 with 1 Axes>"
      ]
     },
     "metadata": {},
     "output_type": "display_data"
    }
   ],
   "source": [
    "# Calculate the average mean_accuracy for each solver\n",
    "accuracy_per_solver = (\n",
    "    full_grid_results.groupby(\"solver_name\")[\"accuracy_mean\"]\n",
    "    .mean()\n",
    "    .reset_index()\n",
    ")\n",
    "\n",
    "# Create a barplot\n",
    "plt.figure(figsize=(12, 6))\n",
    "sns.barplot(\n",
    "    data=accuracy_per_solver,\n",
    "    x=\"solver_name\",\n",
    "    y=\"accuracy_mean\",\n",
    ")\n",
    "plt.xlabel(\"Solver\")\n",
    "plt.ylabel(\"Average Resampled Accuracy\")\n",
    "plt.title(\"Average Resampled Accuracy for Each Solver\")\n",
    "plt.xticks(rotation=45)\n",
    "plt.show()"
   ]
  },
  {
   "cell_type": "markdown",
   "metadata": {},
   "source": [
    "From the visualiztion above, we can see:\n",
    "- HessianBinaryLogisticRegressionMSE performs worst. This means that MSE is not as good of an objective function as maximum likelihood estimation. Additionally, it indicates that MSE may not be a good choice for logistic regression problems.\n",
    "- The differences between MLE-based solvers(BinaryLogisticRegression, HessianBinaryLogisticRegression and StochasticLogisticRegression) are small. This means that they are all good choices."
   ]
  },
  {
   "cell_type": "code",
   "execution_count": 32,
   "metadata": {},
   "outputs": [
    {
     "data": {
      "image/png": "[encoded data removed]",
      "text/plain": [
       "<Figure size 1000x600 with 1 Axes>"
      ]
     },
     "metadata": {},
     "output_type": "display_data"
    }
   ],
   "source": [
    "# Calculate the average mean_accuracy for each regularization type\n",
    "accuracy_per_regularization = (\n",
    "    full_grid_results.groupby(\"regularization\")[\"accuracy_mean\"]\n",
    "    .mean()\n",
    "    .reset_index()\n",
    ")\n",
    "\n",
    "# Create a barplot\n",
    "plt.figure(figsize=(10, 6))\n",
    "sns.barplot(\n",
    "    data=accuracy_per_regularization,\n",
    "    x=\"regularization\",\n",
    "    y=\"accuracy_mean\",\n",
    ")\n",
    "plt.xlabel(\"Regularization Type\")\n",
    "plt.ylabel(\"Average Resampled Accuracy\")\n",
    "plt.title(\"Average Resampled Accuracy for Each Regularization Type\")\n",
    "plt.show()"
   ]
  },
  {
   "cell_type": "markdown",
   "metadata": {},
   "source": [
    "From the visualiztion above, we can see:\n",
    "- There is small difference in accuracy between the three regularization terms. L1 is slightly higher than L2 and both, meaning that the more aggressive shrinkage of L1 may have a slight edge in our data. This would indicate that our data is noisy.\n",
    "- Since the difference between 3 regularization is small, it indicates that regularization doesn't have a big impact on performance."
   ]
  },
  {
   "cell_type": "code",
   "execution_count": 33,
   "metadata": {},
   "outputs": [
    {
     "data": {
      "image/png": "[encoded data removed]",
      "text/plain": [
       "<Figure size 1000x600 with 1 Axes>"
      ]
     },
     "metadata": {},
     "output_type": "display_data"
    }
   ],
   "source": [
    "# Visualize mean accuracy vs. eta\n",
    "plt.figure(figsize=(10, 6))\n",
    "plt.scatter(\n",
    "    full_grid_results[\"eta\"],\n",
    "    full_grid_results[\"accuracy_mean\"],\n",
    "    c=full_grid_results[\"solver_name\"].map(solver_colors),\n",
    "    alpha=0.5,\n",
    ")\n",
    "plt.xlabel(\"eta\")\n",
    "plt.ylabel(\"Mean Accuracy\")\n",
    "plt.title(\"Mean Accuracy vs. eta\")\n",
    "handles = [\n",
    "    plt.plot([], [], marker=\"o\", ls=\"\", color=color)[0]\n",
    "    for color in solver_colors.values()\n",
    "]\n",
    "labels = list(solver_colors.keys())\n",
    "plt.legend(\n",
    "    handles,\n",
    "    labels,\n",
    "    title=\"Solver\",\n",
    "    loc=\"upper right\",\n",
    "    bbox_to_anchor=(1.42, 1),\n",
    ")\n",
    "plt.show()"
   ]
  },
  {
   "cell_type": "markdown",
   "metadata": {},
   "source": [
    "From the visualiztion above, we can see:\n",
    "- Overall, MLE-based solvers all perform better than HessianBinaryLogisticRegressionMSE across different eta. HessianBinaryLogisticRegression performs best and remains stable across different eta. Additional, eta has small impact on the gradient based solvers.\n",
    "\n",
    "- HessianBinaryLogisticRegressionMSE performs worst(below 0.25), and is significant lower than other three solvers. When eta is less than 0.2, the accuracy for HessianBinaryLogisticRegressionMSE is extremly low. Higher eta  do improve the accuracy but still remain lower than others. "
   ]
  },
  {
   "cell_type": "code",
   "execution_count": 34,
   "metadata": {},
   "outputs": [
    {
     "data": {
      "image/png": "[encoded data removed]",
      "text/plain": [
       "<Figure size 1000x600 with 1 Axes>"
      ]
     },
     "metadata": {},
     "output_type": "display_data"
    }
   ],
   "source": [
    "# Visualize mean accuracy vs. eta\n",
    "plt.figure(figsize=(10, 6))\n",
    "plt.scatter(\n",
    "    full_grid_results[\"C\"],\n",
    "    full_grid_results[\"accuracy_mean\"],\n",
    "    c=full_grid_results[\"solver_name\"].map(solver_colors),\n",
    "    alpha=0.5,\n",
    ")\n",
    "plt.xlabel(\"C\")\n",
    "plt.ylabel(\"Mean Accuracy\")\n",
    "plt.title(\"Mean Accuracy vs. C\")\n",
    "handles = [\n",
    "    plt.plot([], [], marker=\"o\", ls=\"\", color=color)[0]\n",
    "    for color in solver_colors.values()\n",
    "]\n",
    "labels = list(solver_colors.keys())\n",
    "plt.legend(\n",
    "    handles,\n",
    "    labels,\n",
    "    title=\"Solver\",\n",
    "    loc=\"upper right\",\n",
    "    bbox_to_anchor=(1.42, 1),\n",
    ")\n",
    "plt.show()"
   ]
  },
  {
   "cell_type": "markdown",
   "metadata": {},
   "source": [
    "From the visualiztion above, we can see:\n",
    "- Overall, MLE-based solvers all perform better than HessianBinaryLogisticRegressionMSE across different C. HessianBinaryLogisticRegression performs best and remains stable across different C. Additionally, C has little impact on improving perfromance for the gradient based solvers. \n",
    "\n",
    "- HessianBinaryLogisticRegressionMSE performs worst (below 0.3), and is significantly lower than the other three solvers. When C is less than 0.002, the accuracy for HessianBinaryLogisticRegressionMSE is extremly low. Higher C value  do improve the accuracy but still remain lower than others. "
   ]
  },
  {
   "cell_type": "markdown",
   "metadata": {},
   "source": [
    "#### Data Snooping?"
   ]
  },
  {
   "cell_type": "markdown",
   "metadata": {},
   "source": [
    "In terms of our grid search algorithm, no data snooping is involved. We simply train our model using 5-fold cross-validation for every possible combination of hyperparameters passed in the user-defined dictionary. A possible critique of our approach, though, is the choice of hyperparameter values to include in the grid search. Due to limited computing power, we used a relatively small number of choices for each hyperparameter. It is possible that other values could yield better results. In this case, we would need to perform a more exhaustive search to find the optimal hyperparameters. Therefore, we believe that a larger grid of hyperparameter values would allow us to be more robust to data snooping."
   ]
  },
  {
   "cell_type": "markdown",
   "metadata": {},
   "source": [
    "### Sklearn Comparison"
   ]
  },
  {
   "cell_type": "code",
   "execution_count": 35,
   "metadata": {},
   "outputs": [
    {
     "name": "stdout",
     "output_type": "stream",
     "text": [
      "Sklearn Mean Accuracy: 0.4869\n",
      "Sklearn Standard Deviation of Accuracy: 0.0183\n",
      "Sklearn CV time: 0.2389 seconds\n"
     ]
    }
   ],
   "source": [
    "# Compare sklearn's LogisticRegression with our custom implementation\n",
    "start_time = time.perf_counter()\n",
    "sklearn_clf = LogisticRegression()\n",
    "sklearn_cv_scores = cross_val_score(\n",
    "    estimator=sklearn_clf,\n",
    "    X=customers_filtered.drop(columns=[\"Segmentation\"]),\n",
    "    y=customers_filtered[\"Segmentation\"],\n",
    "    cv=10,\n",
    "    scoring=\"accuracy\",\n",
    ")\n",
    "duration = time.perf_counter() - start_time\n",
    "sklearn_mean_accuracy = np.mean(sklearn_cv_scores)\n",
    "sklearn_std_accuracy = np.std(sklearn_cv_scores)\n",
    "print(f\"Sklearn Mean Accuracy: {sklearn_mean_accuracy:.4f}\")\n",
    "print(\n",
    "    f\"Sklearn Standard Deviation of Accuracy: {sklearn_std_accuracy:.4f}\"\n",
    ")\n",
    "print(f\"Sklearn CV time: {duration:.4f} seconds\")\n"
   ]
  },
  {
   "cell_type": "code",
   "execution_count": 36,
   "metadata": {},
   "outputs": [
    {
     "name": "stdout",
     "output_type": "stream",
     "text": [
      "Our Mean Accuracy: 0.4825\n",
      "Our Standard Deviation of Accuracy: 0.0260\n",
      "Our CV time: 36.2723 seconds\n"
     ]
    }
   ],
   "source": [
    "start_time = time.perf_counter()\n",
    "clf = MultiClassLogisticRegression(\n",
    "    eta=best_params[\"eta\"],\n",
    "    C=best_params[\"C\"],\n",
    "    regularization=best_params[\"regularization\"],\n",
    "    solver=best_params[\"solver\"],\n",
    ")\n",
    "cv_scores = cross_val_score(\n",
    "    estimator=clf,\n",
    "    X=customers_filtered.drop(columns=[\"Segmentation\"]),\n",
    "    y=customers_filtered[\"Segmentation\"],\n",
    "    cv=10,\n",
    "    scoring=\"accuracy\",\n",
    ")\n",
    "duration = time.perf_counter() - start_time\n",
    "mean_accuracy = np.mean(cv_scores)\n",
    "std_accuracy = np.std(cv_scores)\n",
    "print(f\"Our Mean Accuracy: {mean_accuracy:.4f}\")\n",
    "print(f\"Our Standard Deviation of Accuracy: {std_accuracy:.4f}\")\n",
    "print(f\"Our CV time: {duration:.4f} seconds\")"
   ]
  },
  {
   "cell_type": "markdown",
   "metadata": {},
   "source": [
    "From the results for Scikit-Learn and our implementation above,  we can see:\n",
    "- Scikit-Learn performs slightly better than our implementation in terms of accuracy. It means that our implementation is very close to Scikit-Learn but may still need to improve in the future.\n",
    "- In terms of standard deviation of resampled accuracy, Scikit-Learn is slightly lower than our implementation. This means Scikit-Learn is more consistent across CV folds than our implemention.\n",
    "- In terms of time, Scikit-Learn requires much less time than our implementation. Since  Scikit-Learn runs much faster than our implementaion, when time is a concern, Scikit-Learn would be a better choice. We guess one of the reason why Scikit-Learn runs faster is because it's performance-critical components are written in C/C++, which is faster than Python."
   ]
  },
  {
   "cell_type": "markdown",
   "metadata": {},
   "source": [
    "## Deployment"
   ]
  },
  {
   "cell_type": "markdown",
   "metadata": {},
   "source": [
    "We would advise using Scikit-Learn, because:\n",
    "- Scikit-Learn runs significantly faster than our implementation. In the real-world deployment, speed is a crucial factor in selecting the right method especially for large dataset. Since both Scikit-Learn and our implementation maintain similar accuracy, Scikit-Learn is a better choice for deployment.\n",
    "- Scikit-Learn has been highly tested and optimized, it is more reliable and scalable.\n",
    "- Scikit-Learn has a variety of solvers to suit different types of dataset and it also has built-in features such as cross-validation and  hyperparameter tuning, enabling flexibility based on dataset characteristics.\n",
    "- Scikit-Learn is widely used and has a large community, which means it is easier to find support and resources for troubleshooting and improving models.\n",
    "- Scikit-Learn is already integrated with many other popular Python libraries such as Pandas, NumPy, and Matplotlib, making it easier to use in a larger data science workflow.\n"
   ]
  },
  {
   "cell_type": "markdown",
   "metadata": {},
   "source": [
    "## References"
   ]
  },
  {
   "cell_type": "markdown",
   "metadata": {},
   "source": [
    "Harrell, F. (2017, January 23). *Split-Sample Model Validation*. Statistical Thinking. https://www.fharrell.com/post/split-val/ "
   ]
  },
  {
   "cell_type": "markdown",
   "metadata": {},
   "source": [
    "*Customer Segmentation Hackathon.* Analytics Vidhya. (2021, July 31). https://www.analyticsvidhya.com/datahack/contest/janatahack-customer-segmentation/#ProblemStatement "
   ]
  }
 ],
 "metadata": {
  "kernelspec": {
   "display_name": "3.12.5",
   "language": "python",
   "name": "python3"
  },
  "language_info": {
   "codemirror_mode": {
    "name": "ipython",
    "version": 3
   },
   "file_extension": ".py",
   "mimetype": "text/x-python",
   "name": "python",
   "nbconvert_exporter": "python",
   "pygments_lexer": "ipython3",
   "version": "3.12.5"
  }
 },
 "nbformat": 4,
 "nbformat_minor": 2
}
